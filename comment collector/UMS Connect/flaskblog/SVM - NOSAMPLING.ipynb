{
 "cells": [
  {
   "cell_type": "code",
   "execution_count": 1,
   "id": "69104cb2",
   "metadata": {},
   "outputs": [],
   "source": [
    "# import nltk\n",
    "from nltk.corpus import stopwords\n",
    "from nltk.stem import PorterStemmer\n",
    "from nltk.tokenize import word_tokenize\n",
    "from nltk.stem import WordNetLemmatizer\n",
    "\n",
    "from sklearn.feature_extraction.text import CountVectorizer\n",
    "from sklearn.feature_extraction.text import TfidfTransformer\n",
    "from sklearn.feature_extraction.text import TfidfVectorizer\n",
    "from sklearn.model_selection import train_test_split\n",
    "from sklearn.metrics import classification_report, confusion_matrix, ConfusionMatrixDisplay\n",
    "import sklearn.metrics as metrics\n",
    "from sklearn.svm import LinearSVC\n",
    "\n",
    "# for over sampling and under sampling\n",
    "from imblearn.over_sampling import RandomOverSampler, SMOTE\n",
    "from imblearn.under_sampling import RandomUnderSampler, NearMiss\n",
    "from collections import Counter\n",
    "\n",
    "import re\n",
    "import pandas as pd\n",
    "import matplotlib.pyplot as plt"
   ]
  },
  {
   "cell_type": "markdown",
   "id": "238dce89",
   "metadata": {},
   "source": [
    "# Load Dataset"
   ]
  },
  {
   "cell_type": "code",
   "execution_count": 2,
   "id": "5db0888b",
   "metadata": {},
   "outputs": [
    {
     "data": {
      "text/html": [
       "<div>\n",
       "<style scoped>\n",
       "    .dataframe tbody tr th:only-of-type {\n",
       "        vertical-align: middle;\n",
       "    }\n",
       "\n",
       "    .dataframe tbody tr th {\n",
       "        vertical-align: top;\n",
       "    }\n",
       "\n",
       "    .dataframe thead th {\n",
       "        text-align: right;\n",
       "    }\n",
       "</style>\n",
       "<table border=\"1\" class=\"dataframe\">\n",
       "  <thead>\n",
       "    <tr style=\"text-align: right;\">\n",
       "      <th></th>\n",
       "      <th>Id</th>\n",
       "      <th>Review</th>\n",
       "      <th>Score</th>\n",
       "    </tr>\n",
       "  </thead>\n",
       "  <tbody>\n",
       "    <tr>\n",
       "      <th>0</th>\n",
       "      <td>0</td>\n",
       "      <td>good and interesting</td>\n",
       "      <td>5</td>\n",
       "    </tr>\n",
       "    <tr>\n",
       "      <th>1</th>\n",
       "      <td>1</td>\n",
       "      <td>This class is very helpful to me. Currently, I...</td>\n",
       "      <td>5</td>\n",
       "    </tr>\n",
       "    <tr>\n",
       "      <th>2</th>\n",
       "      <td>2</td>\n",
       "      <td>like!Prof and TAs are helpful and the discussi...</td>\n",
       "      <td>5</td>\n",
       "    </tr>\n",
       "    <tr>\n",
       "      <th>3</th>\n",
       "      <td>3</td>\n",
       "      <td>Easy to follow and includes a lot basic and im...</td>\n",
       "      <td>5</td>\n",
       "    </tr>\n",
       "    <tr>\n",
       "      <th>4</th>\n",
       "      <td>4</td>\n",
       "      <td>Really nice teacher!I could got the point eazl...</td>\n",
       "      <td>4</td>\n",
       "    </tr>\n",
       "  </tbody>\n",
       "</table>\n",
       "</div>"
      ],
      "text/plain": [
       "   Id                                             Review  Score\n",
       "0   0                               good and interesting      5\n",
       "1   1  This class is very helpful to me. Currently, I...      5\n",
       "2   2  like!Prof and TAs are helpful and the discussi...      5\n",
       "3   3  Easy to follow and includes a lot basic and im...      5\n",
       "4   4  Really nice teacher!I could got the point eazl...      4"
      ]
     },
     "execution_count": 2,
     "metadata": {},
     "output_type": "execute_result"
    }
   ],
   "source": [
    "dataset = pd.read_csv('reviews.csv')\n",
    "dataset.head()"
   ]
  },
  {
   "cell_type": "code",
   "execution_count": 3,
   "id": "02b47e95",
   "metadata": {},
   "outputs": [
    {
     "data": {
      "text/html": [
       "<div>\n",
       "<style scoped>\n",
       "    .dataframe tbody tr th:only-of-type {\n",
       "        vertical-align: middle;\n",
       "    }\n",
       "\n",
       "    .dataframe tbody tr th {\n",
       "        vertical-align: top;\n",
       "    }\n",
       "\n",
       "    .dataframe thead th {\n",
       "        text-align: right;\n",
       "    }\n",
       "</style>\n",
       "<table border=\"1\" class=\"dataframe\">\n",
       "  <thead>\n",
       "    <tr style=\"text-align: right;\">\n",
       "      <th></th>\n",
       "      <th>Id</th>\n",
       "      <th>Review</th>\n",
       "      <th>Score</th>\n",
       "    </tr>\n",
       "  </thead>\n",
       "  <tbody>\n",
       "    <tr>\n",
       "      <th>0</th>\n",
       "      <td>0</td>\n",
       "      <td>good and interesting</td>\n",
       "      <td>Very Positive</td>\n",
       "    </tr>\n",
       "    <tr>\n",
       "      <th>1</th>\n",
       "      <td>1</td>\n",
       "      <td>This class is very helpful to me. Currently, I...</td>\n",
       "      <td>Very Positive</td>\n",
       "    </tr>\n",
       "    <tr>\n",
       "      <th>2</th>\n",
       "      <td>2</td>\n",
       "      <td>like!Prof and TAs are helpful and the discussi...</td>\n",
       "      <td>Very Positive</td>\n",
       "    </tr>\n",
       "    <tr>\n",
       "      <th>3</th>\n",
       "      <td>3</td>\n",
       "      <td>Easy to follow and includes a lot basic and im...</td>\n",
       "      <td>Very Positive</td>\n",
       "    </tr>\n",
       "    <tr>\n",
       "      <th>4</th>\n",
       "      <td>4</td>\n",
       "      <td>Really nice teacher!I could got the point eazl...</td>\n",
       "      <td>Positive</td>\n",
       "    </tr>\n",
       "  </tbody>\n",
       "</table>\n",
       "</div>"
      ],
      "text/plain": [
       "   Id                                             Review          Score\n",
       "0   0                               good and interesting  Very Positive\n",
       "1   1  This class is very helpful to me. Currently, I...  Very Positive\n",
       "2   2  like!Prof and TAs are helpful and the discussi...  Very Positive\n",
       "3   3  Easy to follow and includes a lot basic and im...  Very Positive\n",
       "4   4  Really nice teacher!I could got the point eazl...       Positive"
      ]
     },
     "execution_count": 3,
     "metadata": {},
     "output_type": "execute_result"
    }
   ],
   "source": [
    "def polarity_to_label(x):\n",
    "    \n",
    "  if x == 5:\n",
    "    return 'Very Positive'\n",
    "  elif x == 4:\n",
    "    return 'Positive'\n",
    "  elif x == 3:\n",
    "    return 'Neutral'\n",
    "  elif x == 2:\n",
    "    return 'Negative'\n",
    "  elif x == 1:\n",
    "    return 'Very Negative'\n",
    "\n",
    "\n",
    "dataset['Score'] = dataset['Score'].apply(polarity_to_label)\n",
    "dataset.head()"
   ]
  },
  {
   "cell_type": "code",
   "execution_count": 4,
   "id": "fd2e868f",
   "metadata": {},
   "outputs": [
    {
     "data": {
      "text/plain": [
       "Very Positive    79173\n",
       "Positive         18054\n",
       "Neutral           5071\n",
       "Very Negative     2469\n",
       "Negative          2251\n",
       "Name: Score, dtype: int64"
      ]
     },
     "execution_count": 4,
     "metadata": {},
     "output_type": "execute_result"
    }
   ],
   "source": [
    "dataset['Score'].value_counts()"
   ]
  },
  {
   "cell_type": "code",
   "execution_count": 5,
   "id": "5f979687",
   "metadata": {
    "scrolled": true
   },
   "outputs": [
    {
     "data": {
      "text/plain": [
       "<AxesSubplot:ylabel='Score'>"
      ]
     },
     "execution_count": 5,
     "metadata": {},
     "output_type": "execute_result"
    },
    {
     "data": {
      "image/png": "[encoded data removed]",
      "text/plain": [
       "<Figure size 640x480 with 1 Axes>"
      ]
     },
     "metadata": {},
     "output_type": "display_data"
    }
   ],
   "source": [
    "dataset['Score'].value_counts().plot.pie(autopct='%.2f')"
   ]
  },
  {
   "cell_type": "markdown",
   "id": "4e1a6a74",
   "metadata": {},
   "source": [
    "# Dataset Processing"
   ]
  },
  {
   "cell_type": "code",
   "execution_count": 6,
   "id": "013eb6b7",
   "metadata": {},
   "outputs": [
    {
     "data": {
      "text/html": [
       "<div>\n",
       "<style scoped>\n",
       "    .dataframe tbody tr th:only-of-type {\n",
       "        vertical-align: middle;\n",
       "    }\n",
       "\n",
       "    .dataframe tbody tr th {\n",
       "        vertical-align: top;\n",
       "    }\n",
       "\n",
       "    .dataframe thead th {\n",
       "        text-align: right;\n",
       "    }\n",
       "</style>\n",
       "<table border=\"1\" class=\"dataframe\">\n",
       "  <thead>\n",
       "    <tr style=\"text-align: right;\">\n",
       "      <th></th>\n",
       "      <th>Id</th>\n",
       "      <th>Review</th>\n",
       "      <th>Score</th>\n",
       "      <th>CleanedReview</th>\n",
       "    </tr>\n",
       "  </thead>\n",
       "  <tbody>\n",
       "    <tr>\n",
       "      <th>0</th>\n",
       "      <td>0</td>\n",
       "      <td>good and interesting</td>\n",
       "      <td>Very Positive</td>\n",
       "      <td>good interest</td>\n",
       "    </tr>\n",
       "    <tr>\n",
       "      <th>1</th>\n",
       "      <td>1</td>\n",
       "      <td>This class is very helpful to me. Currently, I...</td>\n",
       "      <td>Very Positive</td>\n",
       "      <td>class helpful currently still learn class make...</td>\n",
       "    </tr>\n",
       "    <tr>\n",
       "      <th>2</th>\n",
       "      <td>2</td>\n",
       "      <td>like!Prof and TAs are helpful and the discussi...</td>\n",
       "      <td>Very Positive</td>\n",
       "      <td>likeprof tas helpful discussion among students...</td>\n",
       "    </tr>\n",
       "    <tr>\n",
       "      <th>3</th>\n",
       "      <td>3</td>\n",
       "      <td>Easy to follow and includes a lot basic and im...</td>\n",
       "      <td>Very Positive</td>\n",
       "      <td>easy follow include lot basic important techni...</td>\n",
       "    </tr>\n",
       "    <tr>\n",
       "      <th>4</th>\n",
       "      <td>4</td>\n",
       "      <td>Really nice teacher!I could got the point eazl...</td>\n",
       "      <td>Positive</td>\n",
       "      <td>really nice teacheri could get point eazliy</td>\n",
       "    </tr>\n",
       "  </tbody>\n",
       "</table>\n",
       "</div>"
      ],
      "text/plain": [
       "   Id                                             Review          Score  \\\n",
       "0   0                               good and interesting  Very Positive   \n",
       "1   1  This class is very helpful to me. Currently, I...  Very Positive   \n",
       "2   2  like!Prof and TAs are helpful and the discussi...  Very Positive   \n",
       "3   3  Easy to follow and includes a lot basic and im...  Very Positive   \n",
       "4   4  Really nice teacher!I could got the point eazl...       Positive   \n",
       "\n",
       "                                       CleanedReview  \n",
       "0                                      good interest  \n",
       "1  class helpful currently still learn class make...  \n",
       "2  likeprof tas helpful discussion among students...  \n",
       "3  easy follow include lot basic important techni...  \n",
       "4        really nice teacheri could get point eazliy  "
      ]
     },
     "execution_count": 6,
     "metadata": {},
     "output_type": "execute_result"
    }
   ],
   "source": [
    "\n",
    "lemma = WordNetLemmatizer()\n",
    "stemmer = PorterStemmer()\n",
    "stop_words = set(stopwords.words('english'))\n",
    "\n",
    "def CleanReview(txt):\n",
    "    txt = txt.lower()\n",
    "    txt = re.sub(r'([@#][\\w-]+)|http\\S+|rt[\\s]+|(\\\\\\\\u([a-z]|[0-9])+)|[0-9]|[^a-zA-Z0-9 \\n]', '', txt)\n",
    "    txt = word_tokenize(txt)\n",
    "    txt = [item for item in txt if item not in stop_words]\n",
    "    \n",
    "    txt = [lemma.lemmatize(word=w, pos='v') for w in txt]\n",
    "    txt = [i for i in txt if len(i) > 2]\n",
    "    txt = ' '. join(txt)\n",
    "    return txt\n",
    "\n",
    "dataset['CleanedReview'] = dataset['Review'].apply(CleanReview)\n",
    "dataset.head()"
   ]
  },
  {
   "cell_type": "code",
   "execution_count": 7,
   "id": "2e53794c",
   "metadata": {},
   "outputs": [
    {
     "data": {
      "text/html": [
       "<div>\n",
       "<style scoped>\n",
       "    .dataframe tbody tr th:only-of-type {\n",
       "        vertical-align: middle;\n",
       "    }\n",
       "\n",
       "    .dataframe tbody tr th {\n",
       "        vertical-align: top;\n",
       "    }\n",
       "\n",
       "    .dataframe thead th {\n",
       "        text-align: right;\n",
       "    }\n",
       "</style>\n",
       "<table border=\"1\" class=\"dataframe\">\n",
       "  <thead>\n",
       "    <tr style=\"text-align: right;\">\n",
       "      <th></th>\n",
       "      <th>Id</th>\n",
       "      <th>Score</th>\n",
       "      <th>CleanedReview</th>\n",
       "    </tr>\n",
       "  </thead>\n",
       "  <tbody>\n",
       "    <tr>\n",
       "      <th>0</th>\n",
       "      <td>0</td>\n",
       "      <td>Very Positive</td>\n",
       "      <td>good interest</td>\n",
       "    </tr>\n",
       "    <tr>\n",
       "      <th>1</th>\n",
       "      <td>1</td>\n",
       "      <td>Very Positive</td>\n",
       "      <td>class helpful currently still learn class make...</td>\n",
       "    </tr>\n",
       "    <tr>\n",
       "      <th>2</th>\n",
       "      <td>2</td>\n",
       "      <td>Very Positive</td>\n",
       "      <td>likeprof tas helpful discussion among students...</td>\n",
       "    </tr>\n",
       "    <tr>\n",
       "      <th>3</th>\n",
       "      <td>3</td>\n",
       "      <td>Very Positive</td>\n",
       "      <td>easy follow include lot basic important techni...</td>\n",
       "    </tr>\n",
       "    <tr>\n",
       "      <th>4</th>\n",
       "      <td>4</td>\n",
       "      <td>Positive</td>\n",
       "      <td>really nice teacheri could get point eazliy</td>\n",
       "    </tr>\n",
       "  </tbody>\n",
       "</table>\n",
       "</div>"
      ],
      "text/plain": [
       "   Id          Score                                      CleanedReview\n",
       "0   0  Very Positive                                      good interest\n",
       "1   1  Very Positive  class helpful currently still learn class make...\n",
       "2   2  Very Positive  likeprof tas helpful discussion among students...\n",
       "3   3  Very Positive  easy follow include lot basic important techni...\n",
       "4   4       Positive        really nice teacheri could get point eazliy"
      ]
     },
     "execution_count": 7,
     "metadata": {},
     "output_type": "execute_result"
    }
   ],
   "source": [
    "dfc = dataset.drop(['Review'], axis = 1)\n",
    "dfc.head()"
   ]
  },
  {
   "cell_type": "code",
   "execution_count": 8,
   "id": "ae89b004",
   "metadata": {},
   "outputs": [],
   "source": [
    "X = dfc['CleanedReview']\n",
    "y = dfc['Score']"
   ]
  },
  {
   "cell_type": "code",
   "execution_count": 9,
   "id": "b048ae1f",
   "metadata": {},
   "outputs": [
    {
     "data": {
      "text/plain": [
       "0                                             good interest\n",
       "1         class helpful currently still learn class make...\n",
       "2         likeprof tas helpful discussion among students...\n",
       "3         easy follow include lot basic important techni...\n",
       "4               really nice teacheri could get point eazliy\n",
       "                                ...                        \n",
       "107013    trendy topic talk expertises field cover areas...\n",
       "107014    wonderful simple clear language good instructo...\n",
       "107015                     interest fun course thank quincy\n",
       "107016    broad perspective date information useful link...\n",
       "107017    informative course social financial implicatio...\n",
       "Name: CleanedReview, Length: 107018, dtype: object"
      ]
     },
     "execution_count": 9,
     "metadata": {},
     "output_type": "execute_result"
    }
   ],
   "source": [
    "X"
   ]
  },
  {
   "cell_type": "code",
   "execution_count": 10,
   "id": "2825d3a3",
   "metadata": {
    "scrolled": true
   },
   "outputs": [
    {
     "data": {
      "text/plain": [
       "Very Positive    79173\n",
       "Positive         18054\n",
       "Neutral           5071\n",
       "Very Negative     2469\n",
       "Negative          2251\n",
       "Name: Score, dtype: int64"
      ]
     },
     "execution_count": 10,
     "metadata": {},
     "output_type": "execute_result"
    }
   ],
   "source": [
    "y.value_counts()"
   ]
  },
  {
   "cell_type": "markdown",
   "id": "378a20b0",
   "metadata": {},
   "source": [
    "# Vectorize Text data"
   ]
  },
  {
   "cell_type": "code",
   "execution_count": 11,
   "id": "b7eff5f1",
   "metadata": {},
   "outputs": [],
   "source": [
    "vectorizer = TfidfVectorizer()\n",
    "X = vectorizer.fit_transform(X)"
   ]
  },
  {
   "cell_type": "markdown",
   "id": "c40d5421",
   "metadata": {},
   "source": [
    "# Spliting the processed dataset"
   ]
  },
  {
   "cell_type": "code",
   "execution_count": 12,
   "id": "c1679cca",
   "metadata": {},
   "outputs": [],
   "source": [
    "X_train, X_test, y_train, y_test = train_test_split(X, y, test_size = 0.2, random_state = 2)"
   ]
  },
  {
   "cell_type": "code",
   "execution_count": 13,
   "id": "9d44d51f",
   "metadata": {},
   "outputs": [
    {
     "data": {
      "text/plain": [
       "<85614x44802 sparse matrix of type '<class 'numpy.float64'>'\n",
       "\twith 1021675 stored elements in Compressed Sparse Row format>"
      ]
     },
     "execution_count": 13,
     "metadata": {},
     "output_type": "execute_result"
    }
   ],
   "source": [
    "X_train"
   ]
  },
  {
   "cell_type": "code",
   "execution_count": 14,
   "id": "d651e783",
   "metadata": {
    "scrolled": true
   },
   "outputs": [
    {
     "data": {
      "text/plain": [
       "Very Positive    63315\n",
       "Positive         14451\n",
       "Neutral           4057\n",
       "Very Negative     1967\n",
       "Negative          1824\n",
       "Name: Score, dtype: int64"
      ]
     },
     "execution_count": 14,
     "metadata": {},
     "output_type": "execute_result"
    }
   ],
   "source": [
    "y_train.value_counts()"
   ]
  },
  {
   "cell_type": "markdown",
   "id": "bc505b02",
   "metadata": {},
   "source": [
    "# Train and Test Model"
   ]
  },
  {
   "cell_type": "code",
   "execution_count": 15,
   "id": "52260d71",
   "metadata": {
    "scrolled": true
   },
   "outputs": [
    {
     "name": "stdout",
     "output_type": "stream",
     "text": [
      "               precision    recall  f1-score   support\n",
      "\n",
      "     Negative       0.33      0.10      0.16       427\n",
      "      Neutral       0.32      0.10      0.16      1014\n",
      "     Positive       0.45      0.24      0.31      3603\n",
      "Very Negative       0.54      0.38      0.45       502\n",
      "Very Positive       0.82      0.96      0.88     15858\n",
      "\n",
      "     accuracy                           0.77     21404\n",
      "    macro avg       0.49      0.36      0.39     21404\n",
      " weighted avg       0.72      0.77      0.73     21404\n",
      "\n",
      "Accuracy: 0.7691085778359186\n"
     ]
    }
   ],
   "source": [
    "from sklearn.svm import LinearSVC\n",
    "\n",
    "clf = LinearSVC()\n",
    "clf.fit(X_train, y_train)\n",
    "\n",
    "y_preds = clf.predict(X_test)\n",
    "\n",
    "# Classification report\n",
    "print(classification_report(y_test, y_preds))\n",
    "print(\"Accuracy:\", metrics.accuracy_score(y_test, y_preds))"
   ]
  },
  {
   "cell_type": "markdown",
   "id": "dddba3c0",
   "metadata": {},
   "source": [
    "# Simplify Steps using Pipeline"
   ]
  },
  {
   "cell_type": "code",
   "execution_count": 16,
   "id": "34bb7a32",
   "metadata": {},
   "outputs": [
    {
     "data": {
      "text/plain": [
       "Pipeline(steps=[('tfidf', TfidfVectorizer()), ('linear', LinearSVC())])"
      ]
     },
     "execution_count": 16,
     "metadata": {},
     "output_type": "execute_result"
    }
   ],
   "source": [
    "from sklearn.pipeline import Pipeline\n",
    "\n",
    "pipe = Pipeline([('tfidf', TfidfVectorizer()), \n",
    "                 ('linear', LinearSVC())])\n",
    "\n",
    "pipe.fit(dataset['Review'], dataset['Score'])"
   ]
  },
  {
   "cell_type": "code",
   "execution_count": 17,
   "id": "d9a28046",
   "metadata": {},
   "outputs": [
    {
     "name": "stdout",
     "output_type": "stream",
     "text": [
      "Score: 0.8489319553719935\n"
     ]
    }
   ],
   "source": [
    "pipe_score = pipe.score(dataset['Review'], dataset['Score'])\n",
    "print(\"Score: {}\".format(pipe_score))"
   ]
  },
  {
   "cell_type": "markdown",
   "id": "fff5eeeb",
   "metadata": {},
   "source": [
    "# Saving Model"
   ]
  },
  {
   "cell_type": "code",
   "execution_count": 18,
   "id": "10fc928d",
   "metadata": {},
   "outputs": [
    {
     "data": {
      "text/plain": [
       "['SVMMODEL.joblib']"
      ]
     },
     "execution_count": 18,
     "metadata": {},
     "output_type": "execute_result"
    }
   ],
   "source": [
    "from joblib import dump, load\n",
    "\n",
    "dump(pipe, filename='SVMMODEL.joblib')"
   ]
  },
  {
   "cell_type": "markdown",
   "id": "b0158a4d",
   "metadata": {},
   "source": [
    "# Testing Saved Model"
   ]
  },
  {
   "cell_type": "code",
   "execution_count": 19,
   "id": "72776cdf",
   "metadata": {},
   "outputs": [],
   "source": [
    "lsvm = load('SVMMODEL_SMOTE.joblib')"
   ]
  },
  {
   "cell_type": "code",
   "execution_count": 20,
   "id": "c0b5e5e3",
   "metadata": {},
   "outputs": [
    {
     "name": "stdout",
     "output_type": "stream",
     "text": [
      "['Positive']\n"
     ]
    }
   ],
   "source": [
    "lsvm_predict = lsvm.predict(['The course was everything you said it would be fun but a lot of work And it was I enjoyed the web-labs because they were a lot of fun and easy to understand. And the answers were usually somewhere in the text. I also liked the assignments that required us to get online. Sometimes articles aside from the reading book gave me a better idea and understanding of the subject for that week What I disliked was the short essay question because I found it difficult to explain certain concepts without introducing in some way Ideas from the course notes or book keeping in mind plagiarism I never expected to learn so much from an online class I now see the ocean life in a whole new way '])\n",
    "print(lsvm_predict)"
   ]
  },
  {
   "cell_type": "code",
   "execution_count": 21,
   "id": "4088c928",
   "metadata": {},
   "outputs": [
    {
     "name": "stdout",
     "output_type": "stream",
     "text": [
      "['Neutral']\n"
     ]
    }
   ],
   "source": [
    "lsvm_predict = lsvm.predict(['This course is okay but the lecturer is terrible at teaching, but i enjoyed it nonetheless'])\n",
    "print(lsvm_predict)"
   ]
  },
  {
   "cell_type": "code",
   "execution_count": 22,
   "id": "3940ffa6",
   "metadata": {},
   "outputs": [
    {
     "name": "stdout",
     "output_type": "stream",
     "text": [
      "['Negative']\n"
     ]
    }
   ],
   "source": [
    "lsvm_predict = lsvm.predict(['This course is useless and the lecturer looks uninsterested in teaching this course'])\n",
    "print(lsvm_predict)"
   ]
  },
  {
   "cell_type": "code",
   "execution_count": 23,
   "id": "02df3e76",
   "metadata": {},
   "outputs": [
    {
     "name": "stdout",
     "output_type": "stream",
     "text": [
      "['Very Positive']\n"
     ]
    }
   ],
   "source": [
    "lsvm_predict = lsvm.predict(['wonderful course!! the lecturer is very good at teaching too'])\n",
    "print(lsvm_predict)"
   ]
  },
  {
   "cell_type": "code",
   "execution_count": null,
   "id": "0d3d571c",
   "metadata": {},
   "outputs": [],
   "source": []
  }
 ],
 "metadata": {
  "kernelspec": {
   "display_name": "Python 3 (ipykernel)",
   "language": "python",
   "name": "python3"
  },
  "language_info": {
   "codemirror_mode": {
    "name": "ipython",
    "version": 3
   },
   "file_extension": ".py",
   "mimetype": "text/x-python",
   "name": "python",
   "nbconvert_exporter": "python",
   "pygments_lexer": "ipython3",
   "version": "3.9.13"
  }
 },
 "nbformat": 4,
 "nbformat_minor": 5
}
